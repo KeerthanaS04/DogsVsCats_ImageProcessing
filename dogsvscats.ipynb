{
 "cells": [
  {
   "cell_type": "markdown",
   "id": "a9671a8c",
   "metadata": {
    "_cell_guid": "b1076dfc-b9ad-4769-8c92-a6c4dae69d19",
    "_uuid": "8f2839f25d086af736a60e9eeb907d3b93b6e0e5",
    "papermill": {
     "duration": 0.009528,
     "end_time": "2023-04-22T10:23:14.966119",
     "exception": false,
     "start_time": "2023-04-22T10:23:14.956591",
     "status": "completed"
    },
    "tags": []
   },
   "source": [
    "# 1. Import the libraries"
   ]
  },
  {
   "cell_type": "code",
   "execution_count": 1,
   "id": "ce6ae54c",
   "metadata": {
    "execution": {
     "iopub.execute_input": "2023-04-22T10:23:14.984817Z",
     "iopub.status.busy": "2023-04-22T10:23:14.983737Z",
     "iopub.status.idle": "2023-04-22T10:23:36.289346Z",
     "shell.execute_reply": "2023-04-22T10:23:36.288126Z"
    },
    "papermill": {
     "duration": 21.318085,
     "end_time": "2023-04-22T10:23:36.292221",
     "exception": false,
     "start_time": "2023-04-22T10:23:14.974136",
     "status": "completed"
    },
    "tags": []
   },
   "outputs": [
    {
     "name": "stdout",
     "output_type": "stream",
     "text": [
      "Requirement already satisfied: tensorflow in /opt/conda/lib/python3.7/site-packages (2.11.0)\r\n",
      "Requirement already satisfied: tensorboard<2.12,>=2.11 in /opt/conda/lib/python3.7/site-packages (from tensorflow) (2.11.2)\r\n",
      "Requirement already satisfied: libclang>=13.0.0 in /opt/conda/lib/python3.7/site-packages (from tensorflow) (15.0.6.1)\r\n",
      "Requirement already satisfied: termcolor>=1.1.0 in /opt/conda/lib/python3.7/site-packages (from tensorflow) (2.2.0)\r\n",
      "Requirement already satisfied: typing-extensions>=3.6.6 in /opt/conda/lib/python3.7/site-packages (from tensorflow) (4.4.0)\r\n",
      "Requirement already satisfied: six>=1.12.0 in /opt/conda/lib/python3.7/site-packages (from tensorflow) (1.16.0)\r\n",
      "Requirement already satisfied: astunparse>=1.6.0 in /opt/conda/lib/python3.7/site-packages (from tensorflow) (1.6.3)\r\n",
      "Collecting protobuf<3.20,>=3.9.2\r\n",
      "  Downloading protobuf-3.19.6-cp37-cp37m-manylinux_2_17_x86_64.manylinux2014_x86_64.whl (1.1 MB)\r\n",
      "\u001b[2K     \u001b[90m━━━━━━━━━━━━━━━━━━━━━━━━━━━━━━━━━━━━━━━━\u001b[0m \u001b[32m1.1/1.1 MB\u001b[0m \u001b[31m21.9 MB/s\u001b[0m eta \u001b[36m0:00:00\u001b[0m\r\n",
      "\u001b[?25hRequirement already satisfied: gast<=0.4.0,>=0.2.1 in /opt/conda/lib/python3.7/site-packages (from tensorflow) (0.4.0)\r\n",
      "Requirement already satisfied: keras<2.12,>=2.11.0 in /opt/conda/lib/python3.7/site-packages (from tensorflow) (2.11.0)\r\n",
      "Requirement already satisfied: h5py>=2.9.0 in /opt/conda/lib/python3.7/site-packages (from tensorflow) (3.8.0)\r\n",
      "Requirement already satisfied: google-pasta>=0.1.1 in /opt/conda/lib/python3.7/site-packages (from tensorflow) (0.2.0)\r\n",
      "Requirement already satisfied: opt-einsum>=2.3.2 in /opt/conda/lib/python3.7/site-packages (from tensorflow) (3.3.0)\r\n",
      "Requirement already satisfied: grpcio<2.0,>=1.24.3 in /opt/conda/lib/python3.7/site-packages (from tensorflow) (1.51.1)\r\n",
      "Requirement already satisfied: setuptools in /opt/conda/lib/python3.7/site-packages (from tensorflow) (59.8.0)\r\n",
      "Requirement already satisfied: tensorflow-estimator<2.12,>=2.11.0 in /opt/conda/lib/python3.7/site-packages (from tensorflow) (2.11.0)\r\n",
      "Requirement already satisfied: flatbuffers>=2.0 in /opt/conda/lib/python3.7/site-packages (from tensorflow) (23.1.21)\r\n",
      "Requirement already satisfied: tensorflow-io-gcs-filesystem>=0.23.1 in /opt/conda/lib/python3.7/site-packages (from tensorflow) (0.29.0)\r\n",
      "Requirement already satisfied: wrapt>=1.11.0 in /opt/conda/lib/python3.7/site-packages (from tensorflow) (1.14.1)\r\n",
      "Requirement already satisfied: numpy>=1.20 in /opt/conda/lib/python3.7/site-packages (from tensorflow) (1.21.6)\r\n",
      "Requirement already satisfied: absl-py>=1.0.0 in /opt/conda/lib/python3.7/site-packages (from tensorflow) (1.4.0)\r\n",
      "Requirement already satisfied: packaging in /opt/conda/lib/python3.7/site-packages (from tensorflow) (23.0)\r\n",
      "Requirement already satisfied: wheel<1.0,>=0.23.0 in /opt/conda/lib/python3.7/site-packages (from astunparse>=1.6.0->tensorflow) (0.38.4)\r\n",
      "Requirement already satisfied: werkzeug>=1.0.1 in /opt/conda/lib/python3.7/site-packages (from tensorboard<2.12,>=2.11->tensorflow) (2.2.3)\r\n",
      "Requirement already satisfied: google-auth<3,>=1.6.3 in /opt/conda/lib/python3.7/site-packages (from tensorboard<2.12,>=2.11->tensorflow) (1.35.0)\r\n",
      "Requirement already satisfied: markdown>=2.6.8 in /opt/conda/lib/python3.7/site-packages (from tensorboard<2.12,>=2.11->tensorflow) (3.4.1)\r\n",
      "Requirement already satisfied: requests<3,>=2.21.0 in /opt/conda/lib/python3.7/site-packages (from tensorboard<2.12,>=2.11->tensorflow) (2.28.2)\r\n",
      "Requirement already satisfied: tensorboard-data-server<0.7.0,>=0.6.0 in /opt/conda/lib/python3.7/site-packages (from tensorboard<2.12,>=2.11->tensorflow) (0.6.1)\r\n",
      "Requirement already satisfied: tensorboard-plugin-wit>=1.6.0 in /opt/conda/lib/python3.7/site-packages (from tensorboard<2.12,>=2.11->tensorflow) (1.8.1)\r\n",
      "Requirement already satisfied: google-auth-oauthlib<0.5,>=0.4.1 in /opt/conda/lib/python3.7/site-packages (from tensorboard<2.12,>=2.11->tensorflow) (0.4.6)\r\n",
      "Requirement already satisfied: rsa<5,>=3.1.4 in /opt/conda/lib/python3.7/site-packages (from google-auth<3,>=1.6.3->tensorboard<2.12,>=2.11->tensorflow) (4.9)\r\n",
      "Requirement already satisfied: pyasn1-modules>=0.2.1 in /opt/conda/lib/python3.7/site-packages (from google-auth<3,>=1.6.3->tensorboard<2.12,>=2.11->tensorflow) (0.2.8)\r\n",
      "Requirement already satisfied: cachetools<5.0,>=2.0.0 in /opt/conda/lib/python3.7/site-packages (from google-auth<3,>=1.6.3->tensorboard<2.12,>=2.11->tensorflow) (4.2.4)\r\n",
      "Requirement already satisfied: requests-oauthlib>=0.7.0 in /opt/conda/lib/python3.7/site-packages (from google-auth-oauthlib<0.5,>=0.4.1->tensorboard<2.12,>=2.11->tensorflow) (1.3.1)\r\n",
      "Requirement already satisfied: importlib-metadata>=4.4 in /opt/conda/lib/python3.7/site-packages (from markdown>=2.6.8->tensorboard<2.12,>=2.11->tensorflow) (4.11.4)\r\n",
      "Requirement already satisfied: urllib3<1.27,>=1.21.1 in /opt/conda/lib/python3.7/site-packages (from requests<3,>=2.21.0->tensorboard<2.12,>=2.11->tensorflow) (1.26.14)\r\n",
      "Requirement already satisfied: charset-normalizer<4,>=2 in /opt/conda/lib/python3.7/site-packages (from requests<3,>=2.21.0->tensorboard<2.12,>=2.11->tensorflow) (2.1.1)\r\n",
      "Requirement already satisfied: certifi>=2017.4.17 in /opt/conda/lib/python3.7/site-packages (from requests<3,>=2.21.0->tensorboard<2.12,>=2.11->tensorflow) (2022.12.7)\r\n",
      "Requirement already satisfied: idna<4,>=2.5 in /opt/conda/lib/python3.7/site-packages (from requests<3,>=2.21.0->tensorboard<2.12,>=2.11->tensorflow) (3.4)\r\n",
      "Requirement already satisfied: MarkupSafe>=2.1.1 in /opt/conda/lib/python3.7/site-packages (from werkzeug>=1.0.1->tensorboard<2.12,>=2.11->tensorflow) (2.1.1)\r\n",
      "Requirement already satisfied: zipp>=0.5 in /opt/conda/lib/python3.7/site-packages (from importlib-metadata>=4.4->markdown>=2.6.8->tensorboard<2.12,>=2.11->tensorflow) (3.11.0)\r\n",
      "Requirement already satisfied: pyasn1<0.5.0,>=0.4.6 in /opt/conda/lib/python3.7/site-packages (from pyasn1-modules>=0.2.1->google-auth<3,>=1.6.3->tensorboard<2.12,>=2.11->tensorflow) (0.4.8)\r\n",
      "Requirement already satisfied: oauthlib>=3.0.0 in /opt/conda/lib/python3.7/site-packages (from requests-oauthlib>=0.7.0->google-auth-oauthlib<0.5,>=0.4.1->tensorboard<2.12,>=2.11->tensorflow) (3.2.2)\r\n",
      "Installing collected packages: protobuf\r\n",
      "  Attempting uninstall: protobuf\r\n",
      "    Found existing installation: protobuf 3.20.3\r\n",
      "    Uninstalling protobuf-3.20.3:\r\n",
      "      Successfully uninstalled protobuf-3.20.3\r\n",
      "\u001b[31mERROR: pip's dependency resolver does not currently take into account all the packages that are installed. This behaviour is the source of the following dependency conflicts.\r\n",
      "cudf 21.12.2 requires cupy-cuda115, which is not installed.\r\n",
      "tfx-bsl 1.12.0 requires google-api-python-client<2,>=1.7.11, but you have google-api-python-client 2.83.0 which is incompatible.\r\n",
      "tfx-bsl 1.12.0 requires pyarrow<7,>=6, but you have pyarrow 5.0.0 which is incompatible.\r\n",
      "tensorflow-transform 1.12.0 requires pyarrow<7,>=6, but you have pyarrow 5.0.0 which is incompatible.\r\n",
      "onnx 1.13.1 requires protobuf<4,>=3.20.2, but you have protobuf 3.19.6 which is incompatible.\r\n",
      "apache-beam 2.44.0 requires dill<0.3.2,>=0.3.1.1, but you have dill 0.3.6 which is incompatible.\u001b[0m\u001b[31m\r\n",
      "\u001b[0mSuccessfully installed protobuf-3.19.6\r\n",
      "\u001b[33mWARNING: Running pip as the 'root' user can result in broken permissions and conflicting behaviour with the system package manager. It is recommended to use a virtual environment instead: https://pip.pypa.io/warnings/venv\u001b[0m\u001b[33m\r\n",
      "\u001b[0m"
     ]
    }
   ],
   "source": [
    "!pip install tensorflow"
   ]
  },
  {
   "cell_type": "code",
   "execution_count": 2,
   "id": "19206835",
   "metadata": {
    "execution": {
     "iopub.execute_input": "2023-04-22T10:23:36.313084Z",
     "iopub.status.busy": "2023-04-22T10:23:36.312758Z",
     "iopub.status.idle": "2023-04-22T10:23:43.037529Z",
     "shell.execute_reply": "2023-04-22T10:23:43.036421Z"
    },
    "papermill": {
     "duration": 6.739242,
     "end_time": "2023-04-22T10:23:43.040637",
     "exception": false,
     "start_time": "2023-04-22T10:23:36.301395",
     "status": "completed"
    },
    "tags": []
   },
   "outputs": [],
   "source": [
    "import numpy as np\n",
    "import pandas as pd\n",
    "import tensorflow as tf\n",
    "from tensorflow.keras.preprocessing.image import ImageDataGenerator, load_img\n",
    "from tensorflow.keras.utils import to_categorical\n",
    "from sklearn.model_selection import train_test_split\n",
    "import matplotlib.pyplot as plt\n",
    "import random \n",
    "import os"
   ]
  },
  {
   "cell_type": "markdown",
   "id": "616dd9a4",
   "metadata": {
    "papermill": {
     "duration": 0.008502,
     "end_time": "2023-04-22T10:23:43.058120",
     "exception": false,
     "start_time": "2023-04-22T10:23:43.049618",
     "status": "completed"
    },
    "tags": []
   },
   "source": [
    "# 2. Define Image properties"
   ]
  },
  {
   "cell_type": "code",
   "execution_count": 3,
   "id": "51e60cd1",
   "metadata": {
    "execution": {
     "iopub.execute_input": "2023-04-22T10:23:43.077409Z",
     "iopub.status.busy": "2023-04-22T10:23:43.076740Z",
     "iopub.status.idle": "2023-04-22T10:23:43.082054Z",
     "shell.execute_reply": "2023-04-22T10:23:43.080982Z"
    },
    "papermill": {
     "duration": 0.017498,
     "end_time": "2023-04-22T10:23:43.084219",
     "exception": false,
     "start_time": "2023-04-22T10:23:43.066721",
     "status": "completed"
    },
    "tags": []
   },
   "outputs": [],
   "source": [
    "Image_width = 150\n",
    "Image_height = 150\n",
    "Image_size = (Image_width, Image_height)\n",
    "Image_channels = 3"
   ]
  },
  {
   "cell_type": "markdown",
   "id": "e35b3948",
   "metadata": {
    "papermill": {
     "duration": 0.008596,
     "end_time": "2023-04-22T10:23:43.101286",
     "exception": false,
     "start_time": "2023-04-22T10:23:43.092690",
     "status": "completed"
    },
    "tags": []
   },
   "source": [
    "# 3. Prepare dataset for training model"
   ]
  },
  {
   "cell_type": "code",
   "execution_count": 4,
   "id": "c74e47c4",
   "metadata": {
    "execution": {
     "iopub.execute_input": "2023-04-22T10:23:43.120479Z",
     "iopub.status.busy": "2023-04-22T10:23:43.119493Z",
     "iopub.status.idle": "2023-04-22T10:23:43.124351Z",
     "shell.execute_reply": "2023-04-22T10:23:43.123413Z"
    },
    "papermill": {
     "duration": 0.016646,
     "end_time": "2023-04-22T10:23:43.126427",
     "exception": false,
     "start_time": "2023-04-22T10:23:43.109781",
     "status": "completed"
    },
    "tags": []
   },
   "outputs": [],
   "source": [
    "# !cd /kaggle/input/dogs-vs-cats/train.zip"
   ]
  },
  {
   "cell_type": "code",
   "execution_count": 5,
   "id": "41107ef9",
   "metadata": {
    "execution": {
     "iopub.execute_input": "2023-04-22T10:23:43.145259Z",
     "iopub.status.busy": "2023-04-22T10:23:43.144436Z",
     "iopub.status.idle": "2023-04-22T10:23:43.149048Z",
     "shell.execute_reply": "2023-04-22T10:23:43.148121Z"
    },
    "papermill": {
     "duration": 0.016086,
     "end_time": "2023-04-22T10:23:43.151010",
     "exception": false,
     "start_time": "2023-04-22T10:23:43.134924",
     "status": "completed"
    },
    "tags": []
   },
   "outputs": [],
   "source": [
    "# !yes|unzip -q train.zip -d train"
   ]
  },
  {
   "cell_type": "code",
   "execution_count": 6,
   "id": "52073f36",
   "metadata": {
    "execution": {
     "iopub.execute_input": "2023-04-22T10:23:43.170081Z",
     "iopub.status.busy": "2023-04-22T10:23:43.169303Z",
     "iopub.status.idle": "2023-04-22T10:23:43.177800Z",
     "shell.execute_reply": "2023-04-22T10:23:43.176476Z"
    },
    "papermill": {
     "duration": 0.020293,
     "end_time": "2023-04-22T10:23:43.179959",
     "exception": false,
     "start_time": "2023-04-22T10:23:43.159666",
     "status": "completed"
    },
    "tags": []
   },
   "outputs": [
    {
     "name": "stdout",
     "output_type": "stream",
     "text": [
      "/kaggle/input/dogs-vs-cats/test1.zip\n",
      "/kaggle/input/dogs-vs-cats/train.zip\n",
      "/kaggle/input/dogs-vs-cats/sampleSubmission.csv\n"
     ]
    }
   ],
   "source": [
    "for dirname, _, filenames in os.walk('/kaggle/input'):\n",
    "    for filename in filenames:\n",
    "        print(os.path.join(dirname, filename))"
   ]
  },
  {
   "cell_type": "code",
   "execution_count": 7,
   "id": "94394586",
   "metadata": {
    "execution": {
     "iopub.execute_input": "2023-04-22T10:23:43.198801Z",
     "iopub.status.busy": "2023-04-22T10:23:43.197964Z",
     "iopub.status.idle": "2023-04-22T10:23:59.759289Z",
     "shell.execute_reply": "2023-04-22T10:23:59.757877Z"
    },
    "papermill": {
     "duration": 16.57371,
     "end_time": "2023-04-22T10:23:59.762256",
     "exception": false,
     "start_time": "2023-04-22T10:23:43.188546",
     "status": "completed"
    },
    "tags": []
   },
   "outputs": [],
   "source": [
    "!unzip -q \"/kaggle/input/dogs-vs-cats/test1.zip\"\n",
    "!unzip -q \"/kaggle/input/dogs-vs-cats/train.zip\""
   ]
  },
  {
   "cell_type": "code",
   "execution_count": 8,
   "id": "917f75cf",
   "metadata": {
    "execution": {
     "iopub.execute_input": "2023-04-22T10:23:59.781578Z",
     "iopub.status.busy": "2023-04-22T10:23:59.781238Z",
     "iopub.status.idle": "2023-04-22T10:24:00.721327Z",
     "shell.execute_reply": "2023-04-22T10:24:00.720075Z"
    },
    "papermill": {
     "duration": 0.952584,
     "end_time": "2023-04-22T10:24:00.723886",
     "exception": false,
     "start_time": "2023-04-22T10:23:59.771302",
     "status": "completed"
    },
    "tags": []
   },
   "outputs": [
    {
     "name": "stdout",
     "output_type": "stream",
     "text": [
      "__notebook__.ipynb  \u001b[0m\u001b[01;34mtest1\u001b[0m/  \u001b[01;34mtrain\u001b[0m/\r\n"
     ]
    }
   ],
   "source": [
    "ls"
   ]
  },
  {
   "cell_type": "code",
   "execution_count": 9,
   "id": "d409db44",
   "metadata": {
    "execution": {
     "iopub.execute_input": "2023-04-22T10:24:00.743532Z",
     "iopub.status.busy": "2023-04-22T10:24:00.743197Z",
     "iopub.status.idle": "2023-04-22T10:24:00.748028Z",
     "shell.execute_reply": "2023-04-22T10:24:00.746946Z"
    },
    "papermill": {
     "duration": 0.017363,
     "end_time": "2023-04-22T10:24:00.750319",
     "exception": false,
     "start_time": "2023-04-22T10:24:00.732956",
     "status": "completed"
    },
    "tags": []
   },
   "outputs": [],
   "source": [
    "train_dir = '/kaggle/working/train'\n",
    "test_dir = '/kaggle/working/test1'"
   ]
  },
  {
   "cell_type": "code",
   "execution_count": 10,
   "id": "c1dc5fb6",
   "metadata": {
    "execution": {
     "iopub.execute_input": "2023-04-22T10:24:00.769485Z",
     "iopub.status.busy": "2023-04-22T10:24:00.768896Z",
     "iopub.status.idle": "2023-04-22T10:24:00.780278Z",
     "shell.execute_reply": "2023-04-22T10:24:00.779344Z"
    },
    "papermill": {
     "duration": 0.023382,
     "end_time": "2023-04-22T10:24:00.782347",
     "exception": false,
     "start_time": "2023-04-22T10:24:00.758965",
     "status": "completed"
    },
    "tags": []
   },
   "outputs": [],
   "source": [
    "categories = []\n",
    "\n",
    "for f_name in filenames:\n",
    "    category = f_name.split('.')[0]\n",
    "    if category == 'dog':\n",
    "        categories.append(1)\n",
    "    else:\n",
    "        categories.append(0)\n",
    "        \n",
    "df = pd.DataFrame({\n",
    "    'filename': filenames,\n",
    "    'category': categories\n",
    "})"
   ]
  },
  {
   "cell_type": "markdown",
   "id": "76492603",
   "metadata": {
    "papermill": {
     "duration": 0.008424,
     "end_time": "2023-04-22T10:24:00.799844",
     "exception": false,
     "start_time": "2023-04-22T10:24:00.791420",
     "status": "completed"
    },
    "tags": []
   },
   "source": [
    "# 4. Create the neutral net model:"
   ]
  },
  {
   "cell_type": "code",
   "execution_count": 11,
   "id": "82f4d829",
   "metadata": {
    "execution": {
     "iopub.execute_input": "2023-04-22T10:24:00.818409Z",
     "iopub.status.busy": "2023-04-22T10:24:00.818121Z",
     "iopub.status.idle": "2023-04-22T10:24:03.613288Z",
     "shell.execute_reply": "2023-04-22T10:24:03.612291Z"
    },
    "papermill": {
     "duration": 2.807175,
     "end_time": "2023-04-22T10:24:03.615835",
     "exception": false,
     "start_time": "2023-04-22T10:24:00.808660",
     "status": "completed"
    },
    "tags": []
   },
   "outputs": [],
   "source": [
    "from tensorflow.keras.models import Sequential\n",
    "from tensorflow.keras.layers import (\n",
    "    BatchNormalization,Conv2D,MaxPooling2D,Dropout,Flatten,Dense\n",
    ")\n",
    "model = Sequential()\n",
    "\n",
    "model.add(Conv2D(32,(3,3),activation = 'relu',input_shape = (Image_width,Image_height,Image_channels)))\n",
    "model.add(BatchNormalization())\n",
    "model.add(MaxPooling2D(pool_size = (2,2)))\n",
    "model.add(Dropout(0.25))\n",
    "\n",
    "model.add(Conv2D(64,(3,3),activation = 'relu'))\n",
    "model.add(BatchNormalization())\n",
    "model.add(MaxPooling2D(pool_size = (2,2)))\n",
    "model.add(Dropout(0.25))\n",
    "\n",
    "model.add(Conv2D(128,(3,3),activation = 'relu'))\n",
    "model.add(BatchNormalization())\n",
    "model.add(MaxPooling2D(pool_size = (2,2)))\n",
    "model.add(Dropout(0.25))\n",
    "\n",
    "model.add(Flatten())\n",
    "model.add(Dense(512,activation = 'relu'))\n",
    "model.add(BatchNormalization())\n",
    "model.add(Dropout(0.5))\n",
    "model.add(Dense(2,activation = 'softmax'))\n",
    "\n",
    "model.compile(loss = tf.keras.losses.SparseCategoricalCrossentropy(from_logits = True),\n",
    "             optimizer = 'adam',metrics = ['accuracy'])"
   ]
  },
  {
   "cell_type": "markdown",
   "id": "cb146470",
   "metadata": {
    "papermill": {
     "duration": 0.008639,
     "end_time": "2023-04-22T10:24:03.634700",
     "exception": false,
     "start_time": "2023-04-22T10:24:03.626061",
     "status": "completed"
    },
    "tags": []
   },
   "source": [
    "# 5. Analyzing Model"
   ]
  },
  {
   "cell_type": "code",
   "execution_count": 12,
   "id": "5682e26f",
   "metadata": {
    "execution": {
     "iopub.execute_input": "2023-04-22T10:24:03.655220Z",
     "iopub.status.busy": "2023-04-22T10:24:03.654875Z",
     "iopub.status.idle": "2023-04-22T10:24:03.704094Z",
     "shell.execute_reply": "2023-04-22T10:24:03.703110Z"
    },
    "papermill": {
     "duration": 0.088074,
     "end_time": "2023-04-22T10:24:03.731460",
     "exception": false,
     "start_time": "2023-04-22T10:24:03.643386",
     "status": "completed"
    },
    "tags": []
   },
   "outputs": [
    {
     "name": "stdout",
     "output_type": "stream",
     "text": [
      "Model: \"sequential\"\n",
      "_________________________________________________________________\n",
      " Layer (type)                Output Shape              Param #   \n",
      "=================================================================\n",
      " conv2d (Conv2D)             (None, 148, 148, 32)      896       \n",
      "                                                                 \n",
      " batch_normalization (BatchN  (None, 148, 148, 32)     128       \n",
      " ormalization)                                                   \n",
      "                                                                 \n",
      " max_pooling2d (MaxPooling2D  (None, 74, 74, 32)       0         \n",
      " )                                                               \n",
      "                                                                 \n",
      " dropout (Dropout)           (None, 74, 74, 32)        0         \n",
      "                                                                 \n",
      " conv2d_1 (Conv2D)           (None, 72, 72, 64)        18496     \n",
      "                                                                 \n",
      " batch_normalization_1 (Batc  (None, 72, 72, 64)       256       \n",
      " hNormalization)                                                 \n",
      "                                                                 \n",
      " max_pooling2d_1 (MaxPooling  (None, 36, 36, 64)       0         \n",
      " 2D)                                                             \n",
      "                                                                 \n",
      " dropout_1 (Dropout)         (None, 36, 36, 64)        0         \n",
      "                                                                 \n",
      " conv2d_2 (Conv2D)           (None, 34, 34, 128)       73856     \n",
      "                                                                 \n",
      " batch_normalization_2 (Batc  (None, 34, 34, 128)      512       \n",
      " hNormalization)                                                 \n",
      "                                                                 \n",
      " max_pooling2d_2 (MaxPooling  (None, 17, 17, 128)      0         \n",
      " 2D)                                                             \n",
      "                                                                 \n",
      " dropout_2 (Dropout)         (None, 17, 17, 128)       0         \n",
      "                                                                 \n",
      " flatten (Flatten)           (None, 36992)             0         \n",
      "                                                                 \n",
      " dense (Dense)               (None, 512)               18940416  \n",
      "                                                                 \n",
      " batch_normalization_3 (Batc  (None, 512)              2048      \n",
      " hNormalization)                                                 \n",
      "                                                                 \n",
      " dropout_3 (Dropout)         (None, 512)               0         \n",
      "                                                                 \n",
      " dense_1 (Dense)             (None, 2)                 1026      \n",
      "                                                                 \n",
      "=================================================================\n",
      "Total params: 19,037,634\n",
      "Trainable params: 19,036,162\n",
      "Non-trainable params: 1,472\n",
      "_________________________________________________________________\n"
     ]
    }
   ],
   "source": [
    "model.summary()"
   ]
  },
  {
   "cell_type": "markdown",
   "id": "4ed05bab",
   "metadata": {
    "papermill": {
     "duration": 0.011201,
     "end_time": "2023-04-22T10:24:03.753935",
     "exception": false,
     "start_time": "2023-04-22T10:24:03.742734",
     "status": "completed"
    },
    "tags": []
   },
   "source": [
    "# 6. Define callbacks and learning rate:"
   ]
  },
  {
   "cell_type": "code",
   "execution_count": 13,
   "id": "d970e497",
   "metadata": {
    "execution": {
     "iopub.execute_input": "2023-04-22T10:24:03.777692Z",
     "iopub.status.busy": "2023-04-22T10:24:03.777391Z",
     "iopub.status.idle": "2023-04-22T10:24:03.787541Z",
     "shell.execute_reply": "2023-04-22T10:24:03.786669Z"
    },
    "papermill": {
     "duration": 0.024617,
     "end_time": "2023-04-22T10:24:03.789559",
     "exception": false,
     "start_time": "2023-04-22T10:24:03.764942",
     "status": "completed"
    },
    "tags": []
   },
   "outputs": [],
   "source": [
    "from tensorflow.keras.callbacks import EarlyStopping,ReduceLROnPlateau\n",
    "earlystop = EarlyStopping(patience = 10)\n",
    "learning_rate_reduction = ReduceLROnPlateau(monitor = 'val_acc',patience = 2,verbose = 1,factor = 0.5,min_lr = 0.00001)\n",
    "callbacks = [earlystop,learning_rate_reduction]"
   ]
  },
  {
   "cell_type": "markdown",
   "id": "7ffdb024",
   "metadata": {
    "papermill": {
     "duration": 0.011735,
     "end_time": "2023-04-22T10:24:03.813059",
     "exception": false,
     "start_time": "2023-04-22T10:24:03.801324",
     "status": "completed"
    },
    "tags": []
   },
   "source": [
    "# 7. Manage Data"
   ]
  },
  {
   "cell_type": "code",
   "execution_count": 14,
   "id": "3ca52f82",
   "metadata": {
    "execution": {
     "iopub.execute_input": "2023-04-22T10:24:03.836384Z",
     "iopub.status.busy": "2023-04-22T10:24:03.836080Z",
     "iopub.status.idle": "2023-04-22T10:24:04.483266Z",
     "shell.execute_reply": "2023-04-22T10:24:04.482222Z"
    },
    "papermill": {
     "duration": 0.661659,
     "end_time": "2023-04-22T10:24:04.485792",
     "exception": false,
     "start_time": "2023-04-22T10:24:03.824133",
     "status": "completed"
    },
    "tags": []
   },
   "outputs": [],
   "source": [
    "# create folders and move files\n",
    "if not os.path.exists((os.path.join(train_dir, 'cat'))):\n",
    "    os.mkdir(os.path.join(train_dir, 'cat'))\n",
    "if not os.path.exists((os.path.join(train_dir, 'dog'))):\n",
    "    os.mkdir(os.path.join(train_dir, 'dog'))\n",
    "\n",
    "for file in os.listdir(train_dir):\n",
    "    if file[-3] == 'j':\n",
    "        if file[0] == 'c':\n",
    "            os.replace(os.path.join(train_dir,file), os.path.join(train_dir,'cat', file))\n",
    "        else:\n",
    "            os.replace(os.path.join(train_dir,file), os.path.join(train_dir,'dog', file))"
   ]
  },
  {
   "cell_type": "code",
   "execution_count": 15,
   "id": "dd878f09",
   "metadata": {
    "execution": {
     "iopub.execute_input": "2023-04-22T10:24:04.509835Z",
     "iopub.status.busy": "2023-04-22T10:24:04.509529Z",
     "iopub.status.idle": "2023-04-22T10:24:04.516448Z",
     "shell.execute_reply": "2023-04-22T10:24:04.515521Z"
    },
    "papermill": {
     "duration": 0.021286,
     "end_time": "2023-04-22T10:24:04.518529",
     "exception": false,
     "start_time": "2023-04-22T10:24:04.497243",
     "status": "completed"
    },
    "tags": []
   },
   "outputs": [],
   "source": [
    "filenames = os.listdir('/kaggle/working/train')\n",
    "\n",
    "categories = []\n",
    "for f_name in filenames:\n",
    "    category = f_name.split('.')[0]\n",
    "    if category == 'dog':\n",
    "        categories.append(1)\n",
    "    else:\n",
    "        categories.append(0)\n",
    "        \n",
    "df = pd.DataFrame({\n",
    "    'filename':filenames,\n",
    "    'category':categories\n",
    "})"
   ]
  },
  {
   "cell_type": "code",
   "execution_count": 16,
   "id": "b8b51774",
   "metadata": {
    "execution": {
     "iopub.execute_input": "2023-04-22T10:24:04.542706Z",
     "iopub.status.busy": "2023-04-22T10:24:04.541857Z",
     "iopub.status.idle": "2023-04-22T10:24:04.558058Z",
     "shell.execute_reply": "2023-04-22T10:24:04.557170Z"
    },
    "papermill": {
     "duration": 0.030531,
     "end_time": "2023-04-22T10:24:04.560237",
     "exception": false,
     "start_time": "2023-04-22T10:24:04.529706",
     "status": "completed"
    },
    "tags": []
   },
   "outputs": [],
   "source": [
    "df[\"category\"] = df[\"category\"].replace({0:'cat',1:'dog'})\n",
    "train_df,validate_df = train_test_split(df,test_size=0.20,\n",
    "  random_state=42)\n",
    "train_df = train_df.reset_index(drop=True)\n",
    "validate_df = validate_df.reset_index(drop=True)\n",
    "total_train=train_df.shape[0]\n",
    "total_validate=validate_df.shape[0]\n",
    "batch_size=15"
   ]
  },
  {
   "cell_type": "code",
   "execution_count": 17,
   "id": "c1130ef1",
   "metadata": {
    "execution": {
     "iopub.execute_input": "2023-04-22T10:24:04.584332Z",
     "iopub.status.busy": "2023-04-22T10:24:04.583542Z",
     "iopub.status.idle": "2023-04-22T10:24:04.588333Z",
     "shell.execute_reply": "2023-04-22T10:24:04.587446Z"
    },
    "papermill": {
     "duration": 0.018924,
     "end_time": "2023-04-22T10:24:04.590384",
     "exception": false,
     "start_time": "2023-04-22T10:24:04.571460",
     "status": "completed"
    },
    "tags": []
   },
   "outputs": [],
   "source": [
    "Batch_size = 100 # Number of trainin examples to process before updating our models variables\n",
    "Img_shape = 150 # Our training data consists of images with width of 150 pixels and height of 150 pixels"
   ]
  },
  {
   "cell_type": "markdown",
   "id": "bdd230d1",
   "metadata": {
    "papermill": {
     "duration": 0.010903,
     "end_time": "2023-04-22T10:24:04.612494",
     "exception": false,
     "start_time": "2023-04-22T10:24:04.601591",
     "status": "completed"
    },
    "tags": []
   },
   "source": [
    "# 8. Training and validation data generator:"
   ]
  },
  {
   "cell_type": "code",
   "execution_count": 18,
   "id": "6e39128a",
   "metadata": {
    "execution": {
     "iopub.execute_input": "2023-04-22T10:24:04.636439Z",
     "iopub.status.busy": "2023-04-22T10:24:04.635525Z",
     "iopub.status.idle": "2023-04-22T10:24:04.640638Z",
     "shell.execute_reply": "2023-04-22T10:24:04.639719Z"
    },
    "papermill": {
     "duration": 0.019182,
     "end_time": "2023-04-22T10:24:04.642694",
     "exception": false,
     "start_time": "2023-04-22T10:24:04.623512",
     "status": "completed"
    },
    "tags": []
   },
   "outputs": [],
   "source": [
    "image_generator = ImageDataGenerator(rescale=1./255, validation_split = 0.2)"
   ]
  },
  {
   "cell_type": "code",
   "execution_count": 19,
   "id": "19fb6388",
   "metadata": {
    "execution": {
     "iopub.execute_input": "2023-04-22T10:24:04.666380Z",
     "iopub.status.busy": "2023-04-22T10:24:04.665570Z",
     "iopub.status.idle": "2023-04-22T10:24:05.323156Z",
     "shell.execute_reply": "2023-04-22T10:24:05.322188Z"
    },
    "papermill": {
     "duration": 0.671897,
     "end_time": "2023-04-22T10:24:05.325564",
     "exception": false,
     "start_time": "2023-04-22T10:24:04.653667",
     "status": "completed"
    },
    "tags": []
   },
   "outputs": [
    {
     "name": "stdout",
     "output_type": "stream",
     "text": [
      "Found 20000 images belonging to 2 classes.\n",
      "Found 5000 images belonging to 2 classes.\n"
     ]
    }
   ],
   "source": [
    "train_data_gen = image_generator.flow_from_directory(\n",
    "    batch_size = Batch_size,\n",
    "    directory = train_dir,\n",
    "    shuffle = True,\n",
    "    target_size = (Img_shape,Img_shape), #(150,150)\n",
    "    class_mode = 'binary',\n",
    "    subset = 'training'\n",
    ")\n",
    "\n",
    "val_data_gen = image_generator.flow_from_directory(\n",
    "    batch_size = Batch_size,\n",
    "    directory = train_dir,\n",
    "    shuffle = False,\n",
    "    target_size = (Img_shape,Img_shape), #(150,150)\n",
    "    class_mode = 'binary',\n",
    "    subset = 'validation'\n",
    ")"
   ]
  },
  {
   "cell_type": "markdown",
   "id": "ad0bb8ef",
   "metadata": {
    "papermill": {
     "duration": 0.011323,
     "end_time": "2023-04-22T10:24:05.348392",
     "exception": false,
     "start_time": "2023-04-22T10:24:05.337069",
     "status": "completed"
    },
    "tags": []
   },
   "source": [
    "# 9. Model Training"
   ]
  },
  {
   "cell_type": "code",
   "execution_count": 20,
   "id": "374abea3",
   "metadata": {
    "execution": {
     "iopub.execute_input": "2023-04-22T10:24:05.372747Z",
     "iopub.status.busy": "2023-04-22T10:24:05.372399Z",
     "iopub.status.idle": "2023-04-22T10:36:55.330604Z",
     "shell.execute_reply": "2023-04-22T10:36:55.329477Z"
    },
    "papermill": {
     "duration": 769.973437,
     "end_time": "2023-04-22T10:36:55.333282",
     "exception": false,
     "start_time": "2023-04-22T10:24:05.359845",
     "status": "completed"
    },
    "tags": []
   },
   "outputs": [
    {
     "name": "stderr",
     "output_type": "stream",
     "text": [
      "/opt/conda/lib/python3.7/site-packages/ipykernel_launcher.py:7: UserWarning: `Model.fit_generator` is deprecated and will be removed in a future version. Please use `Model.fit`, which supports generators.\n",
      "  import sys\n"
     ]
    },
    {
     "name": "stdout",
     "output_type": "stream",
     "text": [
      "Epoch 1/10\n"
     ]
    },
    {
     "name": "stderr",
     "output_type": "stream",
     "text": [
      "/opt/conda/lib/python3.7/site-packages/keras/backend.py:5586: UserWarning: \"`sparse_categorical_crossentropy` received `from_logits=True`, but the `output` argument was produced by a Softmax activation and thus does not represent logits. Was this intended?\n",
      "  output, from_logits, \"Softmax\", \"sparse_categorical_crossentropy\"\n",
      "2023-04-22 10:24:07.168684: E tensorflow/core/grappler/optimizers/meta_optimizer.cc:954] layout failed: INVALID_ARGUMENT: Size of values 0 does not match size of permutation 4 @ fanin shape insequential/dropout/dropout/SelectV2-2-TransposeNHWCToNCHW-LayoutOptimizer\n"
     ]
    },
    {
     "name": "stdout",
     "output_type": "stream",
     "text": [
      "200/200 [==============================] - 81s 358ms/step - loss: 0.7672 - accuracy: 0.6615 - val_loss: 1.4723 - val_accuracy: 0.5000\n",
      "Epoch 2/10\n",
      "200/200 [==============================] - 71s 354ms/step - loss: 0.5103 - accuracy: 0.7612 - val_loss: 1.6791 - val_accuracy: 0.5040\n",
      "Epoch 3/10\n",
      "200/200 [==============================] - 71s 352ms/step - loss: 0.4196 - accuracy: 0.8102 - val_loss: 0.5674 - val_accuracy: 0.7242\n",
      "Epoch 4/10\n",
      "200/200 [==============================] - 71s 356ms/step - loss: 0.3537 - accuracy: 0.8457 - val_loss: 0.5664 - val_accuracy: 0.7598\n",
      "Epoch 5/10\n",
      "200/200 [==============================] - 71s 353ms/step - loss: 0.2970 - accuracy: 0.8748 - val_loss: 0.4369 - val_accuracy: 0.8320\n",
      "Epoch 6/10\n",
      "200/200 [==============================] - 75s 373ms/step - loss: 0.2441 - accuracy: 0.8996 - val_loss: 0.6240 - val_accuracy: 0.7856\n",
      "Epoch 7/10\n",
      "200/200 [==============================] - 72s 362ms/step - loss: 0.2073 - accuracy: 0.9179 - val_loss: 0.3964 - val_accuracy: 0.8432\n",
      "Epoch 8/10\n",
      "200/200 [==============================] - 72s 358ms/step - loss: 0.1611 - accuracy: 0.9355 - val_loss: 0.6411 - val_accuracy: 0.8100\n",
      "Epoch 9/10\n",
      "200/200 [==============================] - 72s 360ms/step - loss: 0.1166 - accuracy: 0.9550 - val_loss: 0.6035 - val_accuracy: 0.8350\n",
      "Epoch 10/10\n",
      "200/200 [==============================] - 73s 366ms/step - loss: 0.1167 - accuracy: 0.9550 - val_loss: 0.4742 - val_accuracy: 0.8530\n"
     ]
    }
   ],
   "source": [
    "epochs = 10\n",
    "history = model.fit_generator(\n",
    "    train_data_gen,\n",
    "    epochs = epochs,\n",
    "    validation_data = val_data_gen,\n",
    "    steps_per_epoch = int(np.ceil(20000 / float(Batch_size))), #batch_size\n",
    "    validation_steps = int(np.ceil(5000 / float(Batch_size))) #batch_size\n",
    "#     callbacks = callbacks\n",
    ")"
   ]
  },
  {
   "cell_type": "markdown",
   "id": "00599346",
   "metadata": {
    "papermill": {
     "duration": 0.116753,
     "end_time": "2023-04-22T10:36:55.568627",
     "exception": false,
     "start_time": "2023-04-22T10:36:55.451874",
     "status": "completed"
    },
    "tags": []
   },
   "source": [
    "# 10. Visualize Results of the training"
   ]
  },
  {
   "cell_type": "code",
   "execution_count": 21,
   "id": "4f23557b",
   "metadata": {
    "execution": {
     "iopub.execute_input": "2023-04-22T10:36:55.807097Z",
     "iopub.status.busy": "2023-04-22T10:36:55.806099Z",
     "iopub.status.idle": "2023-04-22T10:36:56.397235Z",
     "shell.execute_reply": "2023-04-22T10:36:56.396163Z"
    },
    "papermill": {
     "duration": 0.712789,
     "end_time": "2023-04-22T10:36:56.400516",
     "exception": false,
     "start_time": "2023-04-22T10:36:55.687727",
     "status": "completed"
    },
    "tags": []
   },
   "outputs": [
    {
     "data": {
      "image/png": "[encoded data removed]",
      "text/plain": [
       "<Figure size 800x800 with 2 Axes>"
      ]
     },
     "metadata": {},
     "output_type": "display_data"
    }
   ],
   "source": [
    "acc = history.history['accuracy']\n",
    "val_acc = history.history['val_accuracy']\n",
    "\n",
    "loss = history.history['loss']\n",
    "val_loss = history.history['val_loss']\n",
    "\n",
    "epochs_range = range(epochs)\n",
    "\n",
    "plt.figure(figsize = (8,8))\n",
    "plt.subplot(1,2,1)\n",
    "plt.plot(epochs_range,acc,label = 'Training Accuracy')\n",
    "plt.plot(epochs_range,val_acc,label = 'Validation Accuracy')\n",
    "plt.legend(loc = 'lower right')\n",
    "plt.title('Training and Validation Accuracy')\n",
    "\n",
    "plt.subplot(1,2,2)\n",
    "plt.plot(epochs_range,loss,label = 'Training Loss')\n",
    "plt.plot(epochs_range,val_loss,label = 'Validation Loss')\n",
    "plt.legend(loc = 'upper right')\n",
    "plt.title('Training and Validation Loss')\n",
    "plt.savefig('foo.png')\n",
    "plt.show()"
   ]
  },
  {
   "cell_type": "markdown",
   "id": "0a5b5baa",
   "metadata": {
    "papermill": {
     "duration": 0.187214,
     "end_time": "2023-04-22T10:36:56.769046",
     "exception": false,
     "start_time": "2023-04-22T10:36:56.581832",
     "status": "completed"
    },
    "tags": []
   },
   "source": [
    "# 11. Save the model"
   ]
  },
  {
   "cell_type": "code",
   "execution_count": 22,
   "id": "bc522776",
   "metadata": {
    "execution": {
     "iopub.execute_input": "2023-04-22T10:36:57.141372Z",
     "iopub.status.busy": "2023-04-22T10:36:57.140939Z",
     "iopub.status.idle": "2023-04-22T10:36:57.723214Z",
     "shell.execute_reply": "2023-04-22T10:36:57.722200Z"
    },
    "papermill": {
     "duration": 0.771545,
     "end_time": "2023-04-22T10:36:57.725815",
     "exception": false,
     "start_time": "2023-04-22T10:36:56.954270",
     "status": "completed"
    },
    "tags": []
   },
   "outputs": [],
   "source": [
    "model.save('model1_DogsVsCats_epoch10.h5')"
   ]
  },
  {
   "cell_type": "markdown",
   "id": "c6c57a30",
   "metadata": {
    "papermill": {
     "duration": 0.119559,
     "end_time": "2023-04-22T10:36:57.965604",
     "exception": false,
     "start_time": "2023-04-22T10:36:57.846045",
     "status": "completed"
    },
    "tags": []
   },
   "source": [
    "# 12. Test data preparation"
   ]
  },
  {
   "cell_type": "code",
   "execution_count": 23,
   "id": "9a749f62",
   "metadata": {
    "execution": {
     "iopub.execute_input": "2023-04-22T10:36:58.207889Z",
     "iopub.status.busy": "2023-04-22T10:36:58.207468Z",
     "iopub.status.idle": "2023-04-22T10:36:58.220582Z",
     "shell.execute_reply": "2023-04-22T10:36:58.219477Z"
    },
    "papermill": {
     "duration": 0.137933,
     "end_time": "2023-04-22T10:36:58.222740",
     "exception": false,
     "start_time": "2023-04-22T10:36:58.084807",
     "status": "completed"
    },
    "tags": []
   },
   "outputs": [],
   "source": [
    "test_filenames = os.listdir(\"/kaggle/working/test1\")\n",
    "test_df = pd.DataFrame({\n",
    "    'filename': test_filenames\n",
    "})\n",
    "nb_samples = test_df.shape[0]"
   ]
  },
  {
   "cell_type": "markdown",
   "id": "1752f63c",
   "metadata": {
    "papermill": {
     "duration": 0.118016,
     "end_time": "2023-04-22T10:36:58.460109",
     "exception": false,
     "start_time": "2023-04-22T10:36:58.342093",
     "status": "completed"
    },
    "tags": []
   },
   "source": [
    "# 13. Make categorical prediction:"
   ]
  },
  {
   "cell_type": "code",
   "execution_count": 24,
   "id": "21f1b8a9",
   "metadata": {
    "execution": {
     "iopub.execute_input": "2023-04-22T10:36:58.705416Z",
     "iopub.status.busy": "2023-04-22T10:36:58.704650Z",
     "iopub.status.idle": "2023-04-22T10:36:59.061291Z",
     "shell.execute_reply": "2023-04-22T10:36:59.060058Z"
    },
    "papermill": {
     "duration": 0.48102,
     "end_time": "2023-04-22T10:36:59.063962",
     "exception": false,
     "start_time": "2023-04-22T10:36:58.582942",
     "status": "completed"
    },
    "tags": []
   },
   "outputs": [
    {
     "name": "stdout",
     "output_type": "stream",
     "text": [
      "Found 0 images belonging to 0 classes.\n",
      "Found 0 images belonging to 0 classes.\n"
     ]
    }
   ],
   "source": [
    "test_data_gen = image_generator.flow_from_directory(\n",
    "    batch_size = Batch_size,\n",
    "    directory = test_dir,\n",
    "    shuffle = True,\n",
    "    target_size = (Img_shape,Img_shape), #(150,150)\n",
    "    class_mode = 'binary',\n",
    "    subset = 'training'\n",
    ")\n",
    "\n",
    "val_data_gen = image_generator.flow_from_directory(\n",
    "    batch_size = Batch_size,\n",
    "    directory = test_dir,\n",
    "    shuffle = False,\n",
    "    target_size = (Img_shape,Img_shape), #(150,150)\n",
    "    class_mode = 'binary',\n",
    "    subset = 'validation'\n",
    ")"
   ]
  },
  {
   "cell_type": "code",
   "execution_count": 25,
   "id": "f21a94b4",
   "metadata": {
    "execution": {
     "iopub.execute_input": "2023-04-22T10:36:59.358575Z",
     "iopub.status.busy": "2023-04-22T10:36:59.357842Z",
     "iopub.status.idle": "2023-04-22T10:36:59.363396Z",
     "shell.execute_reply": "2023-04-22T10:36:59.362271Z"
    },
    "papermill": {
     "duration": 0.179741,
     "end_time": "2023-04-22T10:36:59.365627",
     "exception": false,
     "start_time": "2023-04-22T10:36:59.185886",
     "status": "completed"
    },
    "tags": []
   },
   "outputs": [],
   "source": [
    "# predict = model.predict_generator(test_data_gen,steps = np.ceil(nb_samples/batch_size))"
   ]
  },
  {
   "cell_type": "markdown",
   "id": "f913bfd0",
   "metadata": {
    "papermill": {
     "duration": 0.158642,
     "end_time": "2023-04-22T10:36:59.643805",
     "exception": false,
     "start_time": "2023-04-22T10:36:59.485163",
     "status": "completed"
    },
    "tags": []
   },
   "source": [
    "# 14. Converts labels to Categories"
   ]
  },
  {
   "cell_type": "code",
   "execution_count": 26,
   "id": "f2e18fbf",
   "metadata": {
    "execution": {
     "iopub.execute_input": "2023-04-22T10:36:59.953982Z",
     "iopub.status.busy": "2023-04-22T10:36:59.953312Z",
     "iopub.status.idle": "2023-04-22T10:36:59.957836Z",
     "shell.execute_reply": "2023-04-22T10:36:59.956741Z"
    },
    "papermill": {
     "duration": 0.127931,
     "end_time": "2023-04-22T10:36:59.960788",
     "exception": false,
     "start_time": "2023-04-22T10:36:59.832857",
     "status": "completed"
    },
    "tags": []
   },
   "outputs": [],
   "source": [
    "# test_df['category'] = np.argmax(predict, axis = 1)\n",
    "\n",
    "# label_map = dict((v,k) for k,v in train_data_gen.class_indices.items())\n",
    "# test_df['category'] = test_df['category'].replace(label_map)\n",
    "\n",
    "# test_df['category'] = test_df['category'].replace({'dog':1,'cat':0})"
   ]
  },
  {
   "cell_type": "markdown",
   "id": "211c3b01",
   "metadata": {
    "papermill": {
     "duration": 0.121041,
     "end_time": "2023-04-22T10:37:00.199647",
     "exception": false,
     "start_time": "2023-04-22T10:37:00.078606",
     "status": "completed"
    },
    "tags": []
   },
   "source": [
    "# 15. Visualize the Prediction Results:"
   ]
  },
  {
   "cell_type": "code",
   "execution_count": 27,
   "id": "f3a77a78",
   "metadata": {
    "execution": {
     "iopub.execute_input": "2023-04-22T10:37:00.441569Z",
     "iopub.status.busy": "2023-04-22T10:37:00.440984Z",
     "iopub.status.idle": "2023-04-22T10:37:00.445641Z",
     "shell.execute_reply": "2023-04-22T10:37:00.444555Z"
    },
    "papermill": {
     "duration": 0.127619,
     "end_time": "2023-04-22T10:37:00.447961",
     "exception": false,
     "start_time": "2023-04-22T10:37:00.320342",
     "status": "completed"
    },
    "tags": []
   },
   "outputs": [],
   "source": [
    "# sample_test = test_dir\n",
    "# # sample_test.head()\n",
    "# plt.figure(figsize = (12,24))\n",
    "# for index,row in sample_test.iterrows():\n",
    "#     filename = row['filename']\n",
    "#     category = row['category']\n",
    "#     img = load_img('/kaggle/working/test1' + filename,target_size = Image_size)\n",
    "#     plt.subplot(6,3,index+1)\n",
    "#     plt.imshow(img)\n",
    "#     plt.xlabel(filename+'('+'{}'.format(category)+')')\n",
    "# plt.tight_layout()\n",
    "# plt.show()"
   ]
  },
  {
   "cell_type": "markdown",
   "id": "e9fc3edd",
   "metadata": {
    "papermill": {
     "duration": 0.12197,
     "end_time": "2023-04-22T10:37:00.690470",
     "exception": false,
     "start_time": "2023-04-22T10:37:00.568500",
     "status": "completed"
    },
    "tags": []
   },
   "source": [
    "# 16. Test your model on custom data:"
   ]
  },
  {
   "cell_type": "code",
   "execution_count": 28,
   "id": "a78578aa",
   "metadata": {
    "execution": {
     "iopub.execute_input": "2023-04-22T10:37:00.930012Z",
     "iopub.status.busy": "2023-04-22T10:37:00.929654Z",
     "iopub.status.idle": "2023-04-22T10:37:00.934295Z",
     "shell.execute_reply": "2023-04-22T10:37:00.933158Z"
    },
    "papermill": {
     "duration": 0.126875,
     "end_time": "2023-04-22T10:37:00.936580",
     "exception": false,
     "start_time": "2023-04-22T10:37:00.809705",
     "status": "completed"
    },
    "tags": []
   },
   "outputs": [],
   "source": [
    "# results = {\n",
    "#     0:'cat',\n",
    "#     1:'dog'\n",
    "# }\n",
    "# from PIL import Image\n",
    "# import numpy as np\n",
    "# im = Image.open(\"_image_path_TO_custom_image\")\n",
    "# im = im.resize(Image_Size)\n",
    "# im = np.expand_dims(im,axis = 0)\n",
    "# im = np.array(im)\n",
    "# im = im/255\n",
    "# pred = model.predict_classes([im])[0]\n",
    "# print(pred,results[pred])"
   ]
  },
  {
   "cell_type": "markdown",
   "id": "7c7c2d76",
   "metadata": {
    "papermill": {
     "duration": 0.118212,
     "end_time": "2023-04-22T10:37:01.172201",
     "exception": false,
     "start_time": "2023-04-22T10:37:01.053989",
     "status": "completed"
    },
    "tags": []
   },
   "source": [
    "# 17. Dogs Vs Cats Calssifier GUI:"
   ]
  },
  {
   "cell_type": "code",
   "execution_count": 29,
   "id": "08bf179c",
   "metadata": {
    "execution": {
     "iopub.execute_input": "2023-04-22T10:37:01.414264Z",
     "iopub.status.busy": "2023-04-22T10:37:01.413854Z",
     "iopub.status.idle": "2023-04-22T10:37:01.420539Z",
     "shell.execute_reply": "2023-04-22T10:37:01.419223Z"
    },
    "papermill": {
     "duration": 0.129281,
     "end_time": "2023-04-22T10:37:01.423289",
     "exception": false,
     "start_time": "2023-04-22T10:37:01.294008",
     "status": "completed"
    },
    "tags": []
   },
   "outputs": [],
   "source": [
    "# import tkinter as tk\n",
    "# from tkinter import filedialog\n",
    "# from tkinter import *\n",
    "# from PIL import ImageTk, Image\n",
    "# import numpy\n",
    "\n",
    "# from tensorflow.keras.models import load_model\n",
    "# model = load_model('model1_DogsVsCats_epoch10.h5')\n",
    "# #dictionary to label all traffic signs class.\n",
    "# classes = { \n",
    "#     0:'its a cat',\n",
    "#     1:'its a dog',\n",
    " \n",
    "# }\n",
    "# #initialise GUI\n",
    "# top=tk.Tk()\n",
    "# top.geometry('800x600')\n",
    "# top.title('CatsVSDogs Classification')\n",
    "# top.configure(background='#CDCDCD')\n",
    "# label=Label(top,background='#CDCDCD', font=('arial',15,'bold'))\n",
    "# sign_image = Label(top)\n",
    "# def classify(file_path):\n",
    "#     global label_packed\n",
    "#     image = Image.open(file_path)\n",
    "#     image = image.resize((128,128))\n",
    "#     image = numpy.expand_dims(image, axis=0)\n",
    "#     image = numpy.array(image)\n",
    "#     image = image/255\n",
    "#     pred = model.predict_classes([image])[0]\n",
    "#     sign = classes[pred]\n",
    "#     print(sign)\n",
    "#     label.configure(foreground='#011638', text=sign) \n",
    "# def show_classify_button(file_path):\n",
    "#     classify_b=Button(top,text=\"Classify Image\",\n",
    "#    command=lambda: classify(file_path),\n",
    "#    padx=10,pady=5)\n",
    "#     classify_b.configure(background='#364156', foreground='white',\n",
    "# font=('arial',10,'bold'))\n",
    "#     classify_b.place(relx=0.79,rely=0.46)\n",
    "\n",
    "# def upload_image():\n",
    "#     try:\n",
    "#         file_path=filedialog.askopenfilename()\n",
    "#         uploaded=Image.open(file_path)\n",
    "#         uploaded.thumbnail(((top.winfo_width()/2.25),\n",
    "#     (top.winfo_height()/2.25)))\n",
    "#         im=ImageTk.PhotoImage(uploaded)\n",
    "#         sign_image.configure(image=im)\n",
    "#         sign_image.image=im\n",
    "#         label.configure(text='')\n",
    "#         show_classify_button(file_path)\n",
    "#     except:\n",
    "#         pass\n",
    "# upload=Button(top,text=\"Upload an image\",command=upload_image,padx=10,pady=5)\n",
    "# upload.configure(background='#364156', foreground='white',font=('arial',10,'bold'))\n",
    "# upload.pack(side=BOTTOM,pady=50)\n",
    "# sign_image.pack(side=BOTTOM,expand=True)\n",
    "# label.pack(side=BOTTOM,expand=True)\n",
    "# heading = Label(top, text=\"CatsVSDogs Classification\",pady=20, font=('arial',20,'bold'))\n",
    "# heading.configure(background='#CDCDCD',foreground='#364156')\n",
    "# heading.pack()\n",
    "# top.mainloop()"
   ]
  },
  {
   "cell_type": "code",
   "execution_count": null,
   "id": "e1f77b32",
   "metadata": {
    "papermill": {
     "duration": 0.128597,
     "end_time": "2023-04-22T10:37:01.673961",
     "exception": false,
     "start_time": "2023-04-22T10:37:01.545364",
     "status": "completed"
    },
    "tags": []
   },
   "outputs": [],
   "source": []
  }
 ],
 "metadata": {
  "kernelspec": {
   "display_name": "Python 3",
   "language": "python",
   "name": "python3"
  },
  "language_info": {
   "codemirror_mode": {
    "name": "ipython",
    "version": 3
   },
   "file_extension": ".py",
   "mimetype": "text/x-python",
   "name": "python",
   "nbconvert_exporter": "python",
   "pygments_lexer": "ipython3",
   "version": "3.7.12"
  },
  "papermill": {
   "default_parameters": {},
   "duration": 839.266317,
   "end_time": "2023-04-22T10:37:05.208724",
   "environment_variables": {},
   "exception": null,
   "input_path": "__notebook__.ipynb",
   "output_path": "__notebook__.ipynb",
   "parameters": {},
   "start_time": "2023-04-22T10:23:05.942407",
   "version": "2.4.0"
  }
 },
 "nbformat": 4,
 "nbformat_minor": 5
}
